{
 "cells": [
  {
   "cell_type": "code",
   "execution_count": 1,
   "metadata": {
    "collapsed": false
   },
   "outputs": [
    {
     "name": "stdout",
     "output_type": "stream",
     "text": [
      "Imported!\n"
     ]
    }
   ],
   "source": [
    "#процент населения, играющий в игру\n",
    "import pandas as pd\n",
    "import seaborn\n",
    "import numpy as np\n",
    "\n",
    "%matplotlib inline\n",
    "\n",
    "print \"Imported!\""
   ]
  },
  {
   "cell_type": "raw",
   "metadata": {},
   "source": [
    "Целью работы является расширение характеристик:\n",
    "● процент населения, играющий в игру\n",
    "\n",
    "В этом иследовании будут использоваться данные:\n",
    "● pinfo_ww - таблица с социальными данными игроков;\n",
    "● population.csv - таблица с населением стран игроков;\n",
    "\n",
    "Подгрузим данные, обьеденим для удобства и рассмотрим их параметры (columns)"
   ]
  },
  {
   "cell_type": "code",
   "execution_count": 2,
   "metadata": {
    "collapsed": false
   },
   "outputs": [
    {
     "name": "stdout",
     "output_type": "stream",
     "text": [
      "Read!\n"
     ]
    }
   ],
   "source": [
    "#Create dataset\n",
    "pinfo = pd.read_csv(\"pinfo_ww.csv\",sep=\"|\")\n",
    "population = pd.read_csv(\"population.csv\") #population of the world\n",
    "\n",
    "print \"Read!\""
   ]
  },
  {
   "cell_type": "code",
   "execution_count": 3,
   "metadata": {
    "collapsed": false
   },
   "outputs": [
    {
     "name": "stdout",
     "output_type": "stream",
     "text": [
      "                 id  utc_timestamp gender  birthyear country region    city  \\\n",
      "0   111422139244026     1455786088      m     1937.0      RU     48  Moscow   \n",
      "1  1669982366574606     1460640716      m     1983.0      RU     48  Moscow   \n",
      "2  1667900523450249     1464274996      m     1983.0      RU     48  Moscow   \n",
      "\n",
      "   traffic  traftype  population  \n",
      "0  organic    direct   140702000  \n",
      "1  organic    direct   140702000  \n",
      "2  organic  bookmark   140702000  \n"
     ]
    }
   ],
   "source": [
    "df_common = pd.merge(pinfo, population, how='inner', on='country')\n",
    "print df_common.head(3)"
   ]
  },
  {
   "cell_type": "code",
   "execution_count": 4,
   "metadata": {
    "collapsed": false
   },
   "outputs": [
    {
     "name": "stdout",
     "output_type": "stream",
     "text": [
      "Index([u'country', u'count_nump'], dtype='object')\n",
      "\n",
      "\n",
      "################################################\n",
      "\n",
      "                id  utc_timestamp gender  birthyear country region    city  \\\n",
      "0  111422139244026     1455786088      m     1937.0      RU     48  Moscow   \n",
      "\n",
      "   traffic traftype  population  count_nump  \n",
      "0  organic   direct   140702000        1666  \n",
      "\n",
      "\n",
      "################################################\n",
      "\n"
     ]
    }
   ],
   "source": [
    "table = df_common.groupby('country').size()\n",
    "df_table = pd.DataFrame(table)\n",
    "df_table = df_table.reset_index(level='country')\n",
    "df_table.columns=['country','count_nump']\n",
    "print df_table.columns\n",
    "\n",
    "df_common_new = pd.merge(df_common,df_table,how='inner',on='country')\n",
    "print \"\\n\"\n",
    "print \"################################################\\n\"\n",
    "print df_common_new.head(1)\n",
    "print \"\\n\"\n",
    "print \"################################################\\n\""
   ]
  },
  {
   "cell_type": "raw",
   "metadata": {},
   "source": [
    "Выявим процент населения в странах и составим топ 20. Найдем процент насления стран играющих в игру в среднем и медианном значениях (mean and median)."
   ]
  },
  {
   "cell_type": "code",
   "execution_count": 6,
   "metadata": {
    "collapsed": false
   },
   "outputs": [],
   "source": [
    "df_common_new[\"percent\"] = \"\""
   ]
  },
  {
   "cell_type": "code",
   "execution_count": 8,
   "metadata": {
    "collapsed": false
   },
   "outputs": [
    {
     "name": "stdout",
     "output_type": "stream",
     "text": [
      "country\n",
      "AT    0.023400\n",
      "SE    0.024113\n",
      "GG    0.024529\n",
      "LI    0.025714\n",
      "RE    0.026900\n",
      "RS    0.027679\n",
      "US    0.028529\n",
      "GR    0.030245\n",
      "LT    0.030294\n",
      "PT    0.031191\n",
      "MT    0.034243\n",
      "CA    0.035357\n",
      "FK    0.037908\n",
      "GI    0.039449\n",
      "GB    0.041242\n",
      "BE    0.041565\n",
      "DE    0.042602\n",
      "DK    0.052753\n",
      "PM    0.057045\n",
      "FR    0.071875\n",
      "Name: percent, dtype: float64\n"
     ]
    },
    {
     "data": {
      "text/plain": [
       "<matplotlib.axes._subplots.AxesSubplot at 0xed28be0>"
      ]
     },
     "execution_count": 8,
     "metadata": {},
     "output_type": "execute_result"
    },
    {
     "data": {
      "image/png": "[encoded data removed]",
      "text/plain": [
       "<matplotlib.figure.Figure at 0xec0c400>"
      ]
     },
     "metadata": {},
     "output_type": "display_data"
    }
   ],
   "source": [
    "#процент населений стран (mean)\n",
    "df_common_new.percent = (df_common_new.count_nump*100)/df_common_new.population\n",
    "df_common_new\n",
    "table_max_percent = df_common_new.groupby('country').percent.mean()\n",
    "table_max_percent = table_max_percent.sort_values(inplace=False)\n",
    "print table_max_percent.tail(20)\n",
    "table_max_percent.tail(20).plot(kind='bar')"
   ]
  },
  {
   "cell_type": "code",
   "execution_count": 9,
   "metadata": {
    "collapsed": false
   },
   "outputs": [
    {
     "name": "stdout",
     "output_type": "stream",
     "text": [
      "country\n",
      "AT    0.023400\n",
      "SE    0.024113\n",
      "GG    0.024529\n",
      "LI    0.025714\n",
      "RE    0.026900\n",
      "RS    0.027679\n",
      "US    0.028529\n",
      "GR    0.030245\n",
      "LT    0.030294\n",
      "PT    0.031191\n",
      "MT    0.034243\n",
      "CA    0.035357\n",
      "FK    0.037908\n",
      "GI    0.039449\n",
      "GB    0.041242\n",
      "BE    0.041565\n",
      "DE    0.042602\n",
      "DK    0.052753\n",
      "PM    0.057045\n",
      "FR    0.071875\n",
      "Name: percent, dtype: float64\n"
     ]
    },
    {
     "data": {
      "text/plain": [
       "<matplotlib.axes._subplots.AxesSubplot at 0xaf93860>"
      ]
     },
     "execution_count": 9,
     "metadata": {},
     "output_type": "execute_result"
    },
    {
     "data": {
      "image/png": "[encoded data removed]",
      "text/plain": [
       "<matplotlib.figure.Figure at 0xae279e8>"
      ]
     },
     "metadata": {},
     "output_type": "display_data"
    }
   ],
   "source": [
    "#процент населений стран (median)\n",
    "df_common_new.percent = (df_common_new.count_nump*100)/df_common_new.population\n",
    "df_common_new\n",
    "table_max_percent = df_common_new.groupby('country').percent.median()\n",
    "table_max_percent = table_max_percent.sort_values(inplace=False)\n",
    "print table_max_percent.tail(20)\n",
    "table_max_percent.tail(20).plot(kind='bar')"
   ]
  },
  {
   "cell_type": "raw",
   "metadata": {},
   "source": [
    "Как мы можем видеть средние и медианные значения не различаются.\n",
    "Обобщая полученные рзультаты исследований, мы видим что в основном в игру играет население стран Европы и Северной Америки."
   ]
  }
 ],
 "metadata": {
  "anaconda-cloud": {},
  "kernelspec": {
   "display_name": "Python [Root]",
   "language": "python",
   "name": "Python [Root]"
  },
  "language_info": {
   "codemirror_mode": {
    "name": "ipython",
    "version": 2
   },
   "file_extension": ".py",
   "mimetype": "text/x-python",
   "name": "python",
   "nbconvert_exporter": "python",
   "pygments_lexer": "ipython2",
   "version": "2.7.12"
  }
 },
 "nbformat": 4,
 "nbformat_minor": 0
}
